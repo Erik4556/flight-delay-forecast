{
 "cells": [
  {
   "cell_type": "code",
   "execution_count": 10,
   "metadata": {},
   "outputs": [
    {
     "name": "stdout",
     "output_type": "stream",
     "text": [
      "c:\\Users\\Erik\\OneDrive - PCS International\\Documents\\VSCode Workspace\\ds-projects\\flight_delays\\sandbox_analysis\n",
      "   year  month carrier       carrier_name airport  \\\n",
      "0  2023     12      9E  Endeavor Air Inc.     ABE   \n",
      "1  2023     12      9E  Endeavor Air Inc.     AEX   \n",
      "2  2023     12      9E  Endeavor Air Inc.     AGS   \n",
      "3  2023     12      9E  Endeavor Air Inc.     ALB   \n",
      "4  2023     12      9E  Endeavor Air Inc.     ATL   \n",
      "\n",
      "                                        airport_name  arr_flights  arr_del15  \\\n",
      "0  Allentown/Bethlehem/Easton, PA: Lehigh Valley ...         72.0        5.0   \n",
      "1           Alexandria, LA: Alexandria International         62.0        7.0   \n",
      "2        Augusta, GA: Augusta Regional at Bush Field         95.0       10.0   \n",
      "3                   Albany, NY: Albany International         23.0        2.0   \n",
      "4  Atlanta, GA: Hartsfield-Jackson Atlanta Intern...       2111.0      256.0   \n",
      "\n",
      "   carrier_ct  weather_ct  ...  security_ct  late_aircraft_ct  arr_cancelled  \\\n",
      "0        2.46        1.00  ...          0.0              0.81            0.0   \n",
      "1        4.25        0.00  ...          0.0              1.75            0.0   \n",
      "2        5.94        0.00  ...          0.0              3.00            0.0   \n",
      "3        0.56        0.00  ...          0.0              1.44            1.0   \n",
      "4       76.88        8.75  ...          0.0            117.94            1.0   \n",
      "\n",
      "   arr_diverted  arr_delay  carrier_delay  weather_delay  nas_delay  \\\n",
      "0           0.0      672.0           61.0          574.0       20.0   \n",
      "1           0.0      348.0          252.0            0.0       33.0   \n",
      "2           0.0      859.0          536.0            0.0       47.0   \n",
      "3           0.0       75.0            9.0            0.0        0.0   \n",
      "4           0.0    21424.0         8906.0          732.0     1487.0   \n",
      "\n",
      "   security_delay  late_aircraft_delay  \n",
      "0             0.0                 17.0  \n",
      "1             0.0                 63.0  \n",
      "2             0.0                276.0  \n",
      "3             0.0                 66.0  \n",
      "4             0.0              10299.0  \n",
      "\n",
      "[5 rows x 21 columns]\n"
     ]
    }
   ],
   "source": [
    "import pandas as pd\n",
    "import os\n",
    "\n",
    "\n",
    "print(os.getcwd())\n",
    "df = pd.read_csv('../data/Airline_Delay_Cause.csv')\n",
    "\n",
    "print(df.head())\n"
   ]
  },
  {
   "cell_type": "code",
   "execution_count": null,
   "metadata": {},
   "outputs": [],
   "source": []
  },
  {
   "cell_type": "code",
   "execution_count": null,
   "metadata": {},
   "outputs": [],
   "source": []
  },
  {
   "cell_type": "code",
   "execution_count": null,
   "metadata": {},
   "outputs": [],
   "source": []
  }
 ],
 "metadata": {
  "kernelspec": {
   "display_name": "Python 3",
   "language": "python",
   "name": "python3"
  },
  "language_info": {
   "codemirror_mode": {
    "name": "ipython",
    "version": 3
   },
   "file_extension": ".py",
   "mimetype": "text/x-python",
   "name": "python",
   "nbconvert_exporter": "python",
   "pygments_lexer": "ipython3",
   "version": "3.10.1"
  }
 },
 "nbformat": 4,
 "nbformat_minor": 2
}
